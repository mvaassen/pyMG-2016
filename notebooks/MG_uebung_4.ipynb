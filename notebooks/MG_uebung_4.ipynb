{
 "cells": [
  {
   "cell_type": "markdown",
   "metadata": {},
   "source": [
    "<center> \n",
    "<h1> Mehrgittermethoden </h1> \n",
    "<h2> Übungsaufgaben </h2>\n",
    "<h3> Robert Speck & Dieter Moser, Sommersemester 2016 </h3>\n",
    "</center>\n",
    "___\n"
   ]
  },
  {
   "cell_type": "markdown",
   "metadata": {},
   "source": [
    "### Der FMG-Zyklus ###\n",
    "\n",
    "Implementieren Sie entweder die rekursive oder die nicht-rekursive Version des FMG-Prediktors mit anschließenden V-Zyklen. Fügen Sie die Funktionalität in die `MyMultigrid`-Klasse ein. Stellen Sie die Entwicklung des Fehlers für das Poisson-Problem grafisch dar, indem Sie für jedes Level (z.B. nach der Grobgitter-Korrektur) den Fehler über die Freiheitsgrade plotten. \n",
    "\n",
    "Vergleichen Sie den Fehler mit dem Diskretisierungsfehler des Laplace-Operators und mit dem Fehler von $k$ V-Zyklen."
   ]
  },
  {
   "cell_type": "code",
   "execution_count": 1,
   "metadata": {},
   "outputs": [
    {
     "name": "stdout",
     "output_type": "stream",
     "text": [
      "Error(level):\n"
     ]
    },
    {
     "data": {
      "image/png": "[encoded data removed]",
      "text/plain": [
       "<matplotlib.figure.Figure at 0x7f60061002d0>"
      ]
     },
     "metadata": {},
     "output_type": "display_data"
    },
    {
     "data": {
      "image/png": "[encoded data removed]",
      "text/plain": [
       "<matplotlib.figure.Figure at 0x7f602c4b5190>"
      ]
     },
     "metadata": {},
     "output_type": "display_data"
    }
   ],
   "source": [
    "%matplotlib inline\n",
    "\n",
    "import numpy as np\n",
    "import scipy.linalg as LA\n",
    "import scipy.sparse.linalg as spLA\n",
    "import matplotlib.pyplot as plt\n",
    "\n",
    "from project.poisson1d import Poisson1D\n",
    "from project.helmholtz1d import Helmholtz1D\n",
    "from project.weighted_jacobi import WeightedJacobi\n",
    "# from project.gauss_seidel import GaussSeidel\n",
    "from project.linear_transfer import LinearTransfer\n",
    "\n",
    "from project.mymultigrid import MyMultigrid\n",
    "\n",
    "ndofs = 1023\n",
    "\n",
    "nlevels = int(np.log2(ndofs+1))\n",
    "\n",
    "prob = Poisson1D(ndofs=ndofs)\n",
    "\n",
    "mymg = MyMultigrid(ndofs=ndofs, nlevels=nlevels)\n",
    "mymg.attach_transfer(LinearTransfer)\n",
    "mymg.attach_smoother(WeightedJacobi,prob.A,omega=2.0/3.0)\n",
    "# mymg.attach_smoother(GaussSeidel,prob.A)\n",
    "\n",
    "\n",
    "def uex(arg):\n",
    "    return -0.5 * arg**2 + 0.5*arg\n",
    "\n",
    "res = 1\n",
    "\n",
    "u = mymg.do_fmg_cycle_recursive(prob.rhs, 1, 2, 2, 0)\n",
    "vh_list = mymg.get_vh_list()\n",
    "\n",
    "err = []\n",
    "x = 0\n",
    "for i in range(len(vh_list)):\n",
    "    l = np.array(vh_list[i])\n",
    "    x = np.linspace(0, 1, l.size + 2)[1:-1]\n",
    "    err.append(LA.norm(l - uex(x), np.inf))\n",
    "\n",
    "print('Error(level):')\n",
    "plt.semilogy(err)\n",
    "plt.show()\n",
    "\n",
    "k = 6\n",
    "xvalues = np.array([(i+1) * prob.dx for i in range(prob.ndofs)])\n",
    "u = np.sin(np.pi*k*xvalues)\n",
    "\n",
    "err = []\n",
    "for i in range(nlevels-1):\n",
    "    u = mymg.do_v_cycle(u, prob.rhs, 2, 2, 0)\n",
    "    err.append(LA.norm(u - uex(x), np.inf))\n",
    "\n",
    "print('Error(#v-cycles):')\n",
    "plt.semilogy(err)\n",
    "plt.show()"
   ]
  },
  {
   "cell_type": "markdown",
   "metadata": {},
   "source": [
    "### Fourier Reihen \n",
    "\n",
    "Sei $\\{t_k\\}_{-\\infty}^{\\infty}$ eine absolut summierbare Folge, d.h. $\\sum_{k=-\\infty}^{\\infty}|t_k| < \\infty$.\n",
    "Sei desweiteren $f(\\lambda) = \\lim_{n \\to \\infty} \\sum_{k=-n}^{n}t_k e^{ik\\lambda}$.\n",
    "\n",
    "1. Zeigen Sie, dass $S_n(\\lambda) = \\sum_{k=-n}^{n}t_k e^{ik\\lambda}$ gleichmässig gegen $f(\\lambda)$ konvergiert.\n",
    "1. Folgern Sie, dass $f(\\lambda)$ Riemann-integrierbar und beschränkt auf $[0,2\\pi]$ ist.\n",
    "1. Finden Sie mithilfe der inversen Fouriertransformation eine Darstellung von $t_k$ unter Verwendung von $f(\\lambda)$.\n",
    "\n",
    "Wir nennen $f(\\lambda)$ eine Funktion der *Wiener Klasse*.\n"
   ]
  },
  {
   "cell_type": "markdown",
   "metadata": {},
   "source": [
    "### Über Toeplitz-Matrizen (Teil 1)\n",
    "Eine Matrix nennt man eine Toeplitz-Matrix falls die Werte auf der Hauptdiagonale und allen Nebendiagonalen konstant sind. Mithilfe einer Funktion der Wiener Klasse $f(\\lambda)$ lässt sich die Klasse der Toeplitz-Matrizen\n",
    "$$ T_n(f) = \\{\\frac{1}{2 \\pi} \\int_0^{2\\pi} f(\\lambda) e^{-i(k-j)\\lambda} \\mathrm{d}\\lambda ; k,j = 0,1,\\ldots,n-1\\}$$\n",
    "konstruieren.\n",
    "\n",
    "1. Welches $f(\\lambda)$ und $n$ generiert den zentrierte Finite-Differenzen-Operator 2. Ordnung des Laplace-Operators?\n",
    "1. Zeigen Sie, dass $T_n(f(\\lambda))$ genau dann hermitesch ist wenn $f(\\lambda)$ eine reellwertige Funktion ist.\n",
    "1. Sei $f(\\lambda)$ reellwertig und begrenzt durch $m_f \\leq f(\\lambda) \\leq M_f$. Beweisen Sie mithilfe des Rayleigh Koeffizienten, dass für die Eigenwerte $\\tau_{n,k}$ von $T_n(f)$ gilt \n",
    "    $m_f\\leq\\tau_{n,k}\\leq M_f$.\n",
    "1. Zeigen Sie für nicht-hermitesche $T_n(f)$, dass die Ungleichung $\\| T_n(f) \\| \\leq M_{|f_r|}+M_{|f_i|} \\leq 2 M_{|f|}$ gilt, wobei $f(\\lambda) = f_r(\\lambda) + i f_i(\\lambda)$ mit den reellwertigen Funktionen $f_i,f_r$ aus der Wiener Klasse.\n",
    "\n",
    "Tipp: Nutzen Sie den Satz von Parseval für $x^* \\cdot x$.\n"
   ]
  }
 ],
 "metadata": {
  "kernelspec": {
   "display_name": "Python 3",
   "language": "python",
   "name": "python3"
  },
  "language_info": {
   "codemirror_mode": {
    "name": "ipython",
    "version": 3.0
   },
   "file_extension": ".py",
   "mimetype": "text/x-python",
   "name": "python",
   "nbconvert_exporter": "python",
   "pygments_lexer": "ipython3",
   "version": "3.4.4"
  }
 },
 "nbformat": 4,
 "nbformat_minor": 0
}